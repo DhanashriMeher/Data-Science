{
 "cells": [
  {
   "cell_type": "markdown",
   "id": "e1af35e2",
   "metadata": {},
   "source": [
    "# Pandas"
   ]
  },
  {
   "cell_type": "markdown",
   "id": "4789c18c",
   "metadata": {},
   "source": [
    "    Pandas is fast ,powerful , flexible and easy to use.\n",
    "open source\n",
    "data analysis and manipulation tool \n",
    "built on top of python programming language."
   ]
  },
  {
   "cell_type": "markdown",
   "id": "60791d8f",
   "metadata": {},
   "source": [
    "1. Series(1D)\n",
    "2. DataFrame(2D)\n",
    "3. Panel (Multidimentional)"
   ]
  },
  {
   "cell_type": "code",
   "execution_count": 1,
   "id": "3c6e618f",
   "metadata": {},
   "outputs": [],
   "source": [
    "import pandas as pd"
   ]
  },
  {
   "cell_type": "code",
   "execution_count": 4,
   "id": "d9005952",
   "metadata": {},
   "outputs": [],
   "source": [
    "#pd.Series(data,index,type)"
   ]
  },
  {
   "cell_type": "code",
   "execution_count": 2,
   "id": "85816d5f",
   "metadata": {},
   "outputs": [
    {
     "data": {
      "text/plain": [
       "0    1\n",
       "1    2\n",
       "2    3\n",
       "dtype: int64"
      ]
     },
     "execution_count": 2,
     "metadata": {},
     "output_type": "execute_result"
    }
   ],
   "source": [
    "pd.Series([1,2,3])"
   ]
  },
  {
   "cell_type": "markdown",
   "id": "7b2875bb",
   "metadata": {},
   "source": [
    "# Features of a Series"
   ]
  },
  {
   "cell_type": "markdown",
   "id": "f978b471",
   "metadata": {},
   "source": [
    "* Its mutable in nature\n",
    "* Array,Indexing,slicing default\n",
    "* 1 Dimentional data structure\n",
    "* We can manipulate Series\n",
    "* duplicate data and index is allowed."
   ]
  },
  {
   "cell_type": "code",
   "execution_count": 11,
   "id": "ce0c6b07",
   "metadata": {},
   "outputs": [
    {
     "data": {
      "text/plain": [
       "0       10\n",
       "1    12.55\n",
       "2       cs\n",
       "3    10000\n",
       "dtype: object"
      ]
     },
     "execution_count": 11,
     "metadata": {},
     "output_type": "execute_result"
    }
   ],
   "source": [
    "a=pd.Series([10,12.55,'cs',10000])\n",
    "a"
   ]
  },
  {
   "cell_type": "code",
   "execution_count": 7,
   "id": "d4b28aef",
   "metadata": {},
   "outputs": [
    {
     "data": {
      "text/plain": [
       "1"
      ]
     },
     "execution_count": 7,
     "metadata": {},
     "output_type": "execute_result"
    }
   ],
   "source": [
    "a.ndim"
   ]
  },
  {
   "cell_type": "code",
   "execution_count": 8,
   "id": "1373d958",
   "metadata": {},
   "outputs": [
    {
     "data": {
      "text/plain": [
       "4"
      ]
     },
     "execution_count": 8,
     "metadata": {},
     "output_type": "execute_result"
    }
   ],
   "source": [
    "a.size"
   ]
  },
  {
   "cell_type": "code",
   "execution_count": 9,
   "id": "3d3b7915",
   "metadata": {},
   "outputs": [
    {
     "data": {
      "text/plain": [
       "4"
      ]
     },
     "execution_count": 9,
     "metadata": {},
     "output_type": "execute_result"
    }
   ],
   "source": [
    "a.count()"
   ]
  },
  {
   "cell_type": "code",
   "execution_count": 10,
   "id": "9fb76de0",
   "metadata": {},
   "outputs": [
    {
     "data": {
      "text/plain": [
       "(4,)"
      ]
     },
     "execution_count": 10,
     "metadata": {},
     "output_type": "execute_result"
    }
   ],
   "source": [
    "a.shape"
   ]
  },
  {
   "cell_type": "code",
   "execution_count": 11,
   "id": "5daa0848",
   "metadata": {},
   "outputs": [
    {
     "data": {
      "text/plain": [
       "dtype('O')"
      ]
     },
     "execution_count": 11,
     "metadata": {},
     "output_type": "execute_result"
    }
   ],
   "source": [
    "a.dtype"
   ]
  },
  {
   "cell_type": "code",
   "execution_count": 12,
   "id": "3c39d92c",
   "metadata": {},
   "outputs": [
    {
     "data": {
      "text/plain": [
       "array([10, 12.55, 'cs', 10000], dtype=object)"
      ]
     },
     "execution_count": 12,
     "metadata": {},
     "output_type": "execute_result"
    }
   ],
   "source": [
    "a.values  #fetch data"
   ]
  },
  {
   "cell_type": "code",
   "execution_count": 13,
   "id": "dbe4257c",
   "metadata": {},
   "outputs": [
    {
     "data": {
      "text/plain": [
       "RangeIndex(start=0, stop=4, step=1)"
      ]
     },
     "execution_count": 13,
     "metadata": {},
     "output_type": "execute_result"
    }
   ],
   "source": [
    "a.index\n"
   ]
  },
  {
   "cell_type": "code",
   "execution_count": 5,
   "id": "dac06f8a",
   "metadata": {},
   "outputs": [
    {
     "data": {
      "text/plain": [
       "0    120\n",
       "1      4\n",
       "2    180\n",
       "3      5\n",
       "dtype: int64"
      ]
     },
     "execution_count": 5,
     "metadata": {},
     "output_type": "execute_result"
    }
   ],
   "source": [
    "p=pd.Series([120,4,180,5])\n",
    "p"
   ]
  },
  {
   "cell_type": "code",
   "execution_count": 16,
   "id": "e0bfa903",
   "metadata": {},
   "outputs": [
    {
     "data": {
      "text/plain": [
       "180"
      ]
     },
     "execution_count": 16,
     "metadata": {},
     "output_type": "execute_result"
    }
   ],
   "source": [
    "p.max()"
   ]
  },
  {
   "cell_type": "code",
   "execution_count": 17,
   "id": "f688fcda",
   "metadata": {},
   "outputs": [
    {
     "data": {
      "text/plain": [
       "4"
      ]
     },
     "execution_count": 17,
     "metadata": {},
     "output_type": "execute_result"
    }
   ],
   "source": [
    "p.min()"
   ]
  },
  {
   "cell_type": "code",
   "execution_count": 18,
   "id": "9e7fd112",
   "metadata": {},
   "outputs": [
    {
     "data": {
      "text/plain": [
       "180"
      ]
     },
     "execution_count": 18,
     "metadata": {},
     "output_type": "execute_result"
    }
   ],
   "source": [
    "max(p)"
   ]
  },
  {
   "cell_type": "code",
   "execution_count": 19,
   "id": "ee43352b",
   "metadata": {},
   "outputs": [
    {
     "data": {
      "text/plain": [
       "77.25"
      ]
     },
     "execution_count": 19,
     "metadata": {},
     "output_type": "execute_result"
    }
   ],
   "source": [
    "p.mean()"
   ]
  },
  {
   "cell_type": "code",
   "execution_count": 20,
   "id": "f60b9e86",
   "metadata": {},
   "outputs": [
    {
     "data": {
      "text/plain": [
       "62.5"
      ]
     },
     "execution_count": 20,
     "metadata": {},
     "output_type": "execute_result"
    }
   ],
   "source": [
    "p.median()"
   ]
  },
  {
   "cell_type": "code",
   "execution_count": 21,
   "id": "c61aee4f",
   "metadata": {},
   "outputs": [
    {
     "data": {
      "text/plain": [
       "0      4\n",
       "1      5\n",
       "2    120\n",
       "3    180\n",
       "dtype: int64"
      ]
     },
     "execution_count": 21,
     "metadata": {},
     "output_type": "execute_result"
    }
   ],
   "source": [
    "p.mode()"
   ]
  },
  {
   "cell_type": "code",
   "execution_count": 6,
   "id": "1b566ab1",
   "metadata": {},
   "outputs": [
    {
     "data": {
      "text/plain": [
       "0    100\n",
       "1    420\n",
       "2    410\n",
       "3    100\n",
       "4    100\n",
       "dtype: int64"
      ]
     },
     "execution_count": 6,
     "metadata": {},
     "output_type": "execute_result"
    }
   ],
   "source": [
    "q=pd.Series([100,420,410,100,100])\n",
    "q"
   ]
  },
  {
   "cell_type": "code",
   "execution_count": 23,
   "id": "983cd9dc",
   "metadata": {},
   "outputs": [
    {
     "data": {
      "text/plain": [
       "0    100\n",
       "dtype: int64"
      ]
     },
     "execution_count": 23,
     "metadata": {},
     "output_type": "execute_result"
    }
   ],
   "source": [
    "q.mode()"
   ]
  },
  {
   "cell_type": "markdown",
   "id": "a71905af",
   "metadata": {},
   "source": [
    "# Series Structure"
   ]
  },
  {
   "cell_type": "code",
   "execution_count": 7,
   "id": "7e0bce03",
   "metadata": {},
   "outputs": [
    {
     "data": {
      "text/plain": [
       "0    120\n",
       "1      4\n",
       "2    180\n",
       "3      5\n",
       "dtype: int64"
      ]
     },
     "execution_count": 7,
     "metadata": {},
     "output_type": "execute_result"
    }
   ],
   "source": [
    "p"
   ]
  },
  {
   "cell_type": "code",
   "execution_count": 25,
   "id": "1c5a7778",
   "metadata": {},
   "outputs": [
    {
     "data": {
      "text/plain": [
       "0    100\n",
       "1    420\n",
       "2    410\n",
       "3    100\n",
       "4    100\n",
       "dtype: int64"
      ]
     },
     "execution_count": 25,
     "metadata": {},
     "output_type": "execute_result"
    }
   ],
   "source": [
    "q"
   ]
  },
  {
   "cell_type": "code",
   "execution_count": 26,
   "id": "63439a7e",
   "metadata": {},
   "outputs": [
    {
     "data": {
      "text/plain": [
       "0       10\n",
       "1    12.55\n",
       "2       cs\n",
       "3    10000\n",
       "dtype: object"
      ]
     },
     "execution_count": 26,
     "metadata": {},
     "output_type": "execute_result"
    }
   ],
   "source": [
    "a"
   ]
  },
  {
   "cell_type": "code",
   "execution_count": 32,
   "id": "8f1e643a",
   "metadata": {},
   "outputs": [
    {
     "name": "stderr",
     "output_type": "stream",
     "text": [
      "C:\\Users\\Dhanashri\\AppData\\Local\\Temp\\ipykernel_5436\\3722011364.py:1: FutureWarning: The series.append method is deprecated and will be removed from pandas in a future version. Use pandas.concat instead.\n",
      "  p.append(a)\n"
     ]
    },
    {
     "data": {
      "text/plain": [
       "0      120\n",
       "1        4\n",
       "2      180\n",
       "3        5\n",
       "0       10\n",
       "1    12.55\n",
       "2       cs\n",
       "3    10000\n",
       "dtype: object"
      ]
     },
     "execution_count": 32,
     "metadata": {},
     "output_type": "execute_result"
    }
   ],
   "source": [
    "p.append(a)"
   ]
  },
  {
   "cell_type": "markdown",
   "id": "c0e2acbf",
   "metadata": {},
   "source": [
    "# astype():used for typecasting"
   ]
  },
  {
   "cell_type": "code",
   "execution_count": 33,
   "id": "029ae728",
   "metadata": {},
   "outputs": [
    {
     "data": {
      "text/plain": [
       "0       10\n",
       "1    12.55\n",
       "2       cs\n",
       "3    10000\n",
       "dtype: object"
      ]
     },
     "execution_count": 33,
     "metadata": {},
     "output_type": "execute_result"
    }
   ],
   "source": [
    "a"
   ]
  },
  {
   "cell_type": "code",
   "execution_count": 35,
   "id": "f4fc4309",
   "metadata": {},
   "outputs": [
    {
     "data": {
      "text/plain": [
       "0    120.0\n",
       "1      4.0\n",
       "2    180.0\n",
       "3      5.0\n",
       "dtype: float64"
      ]
     },
     "execution_count": 35,
     "metadata": {},
     "output_type": "execute_result"
    }
   ],
   "source": [
    "p.astype('float')"
   ]
  },
  {
   "cell_type": "code",
   "execution_count": 36,
   "id": "9b01dda2",
   "metadata": {},
   "outputs": [
    {
     "data": {
      "text/plain": [
       "0    100\n",
       "1    420\n",
       "2    410\n",
       "3    100\n",
       "4    100\n",
       "dtype: int32"
      ]
     },
     "execution_count": 36,
     "metadata": {},
     "output_type": "execute_result"
    }
   ],
   "source": [
    "q.astype(int)"
   ]
  },
  {
   "cell_type": "code",
   "execution_count": 8,
   "id": "265990ba",
   "metadata": {},
   "outputs": [
    {
     "data": {
      "text/plain": [
       "0    120\n",
       "1      4\n",
       "2    180\n",
       "3      5\n",
       "dtype: int64"
      ]
     },
     "execution_count": 8,
     "metadata": {},
     "output_type": "execute_result"
    }
   ],
   "source": [
    "p"
   ]
  },
  {
   "cell_type": "code",
   "execution_count": 9,
   "id": "785b89fc",
   "metadata": {},
   "outputs": [
    {
     "data": {
      "text/plain": [
       "0    100\n",
       "1    420\n",
       "2    410\n",
       "3    100\n",
       "4    100\n",
       "dtype: int64"
      ]
     },
     "execution_count": 9,
     "metadata": {},
     "output_type": "execute_result"
    }
   ],
   "source": [
    "q"
   ]
  },
  {
   "cell_type": "code",
   "execution_count": 10,
   "id": "d85fc031",
   "metadata": {},
   "outputs": [
    {
     "name": "stderr",
     "output_type": "stream",
     "text": [
      "C:\\Users\\Dhanashri\\AppData\\Local\\Temp\\ipykernel_6808\\3420359036.py:1: FutureWarning: The series.append method is deprecated and will be removed from pandas in a future version. Use pandas.concat instead.\n",
      "  p.append(q)\n"
     ]
    },
    {
     "data": {
      "text/plain": [
       "0    120\n",
       "1      4\n",
       "2    180\n",
       "3      5\n",
       "0    100\n",
       "1    420\n",
       "2    410\n",
       "3    100\n",
       "4    100\n",
       "dtype: int64"
      ]
     },
     "execution_count": 10,
     "metadata": {},
     "output_type": "execute_result"
    }
   ],
   "source": [
    "p.append(q)"
   ]
  },
  {
   "cell_type": "code",
   "execution_count": 12,
   "id": "5d119662",
   "metadata": {},
   "outputs": [
    {
     "name": "stderr",
     "output_type": "stream",
     "text": [
      "C:\\Users\\Dhanashri\\AppData\\Local\\Temp\\ipykernel_6808\\3508935370.py:2: FutureWarning: The series.append method is deprecated and will be removed from pandas in a future version. Use pandas.concat instead.\n",
      "  p.append(a,ignore_index =True)\n"
     ]
    },
    {
     "data": {
      "text/plain": [
       "0      120\n",
       "1        4\n",
       "2      180\n",
       "3        5\n",
       "4       10\n",
       "5    12.55\n",
       "6       cs\n",
       "7    10000\n",
       "dtype: object"
      ]
     },
     "execution_count": 12,
     "metadata": {},
     "output_type": "execute_result"
    }
   ],
   "source": [
    "#problem with index can be solved using ignore_index\n",
    "p.append(a,ignore_index =True) "
   ]
  },
  {
   "cell_type": "code",
   "execution_count": 13,
   "id": "984929f5",
   "metadata": {},
   "outputs": [
    {
     "name": "stderr",
     "output_type": "stream",
     "text": [
      "C:\\Users\\Dhanashri\\AppData\\Local\\Temp\\ipykernel_6808\\4166869079.py:1: FutureWarning: The series.append method is deprecated and will be removed from pandas in a future version. Use pandas.concat instead.\n",
      "  a.append([a,a])\n"
     ]
    },
    {
     "data": {
      "text/plain": [
       "0       10\n",
       "1    12.55\n",
       "2       cs\n",
       "3    10000\n",
       "0       10\n",
       "1    12.55\n",
       "2       cs\n",
       "3    10000\n",
       "0       10\n",
       "1    12.55\n",
       "2       cs\n",
       "3    10000\n",
       "dtype: object"
      ]
     },
     "execution_count": 13,
     "metadata": {},
     "output_type": "execute_result"
    }
   ],
   "source": [
    "a.append([a,a])"
   ]
  },
  {
   "cell_type": "code",
   "execution_count": 14,
   "id": "1e372157",
   "metadata": {},
   "outputs": [
    {
     "name": "stderr",
     "output_type": "stream",
     "text": [
      "C:\\Users\\Dhanashri\\AppData\\Local\\Temp\\ipykernel_6808\\3515438000.py:1: FutureWarning: The series.append method is deprecated and will be removed from pandas in a future version. Use pandas.concat instead.\n",
      "  a.append([a,p,q])\n"
     ]
    },
    {
     "data": {
      "text/plain": [
       "0       10\n",
       "1    12.55\n",
       "2       cs\n",
       "3    10000\n",
       "0       10\n",
       "1    12.55\n",
       "2       cs\n",
       "3    10000\n",
       "0      120\n",
       "1        4\n",
       "2      180\n",
       "3        5\n",
       "0      100\n",
       "1      420\n",
       "2      410\n",
       "3      100\n",
       "4      100\n",
       "dtype: object"
      ]
     },
     "execution_count": 14,
     "metadata": {},
     "output_type": "execute_result"
    }
   ],
   "source": [
    "a.append([a,p,q])"
   ]
  },
  {
   "cell_type": "markdown",
   "id": "e543c044",
   "metadata": {},
   "source": [
    "# apply()"
   ]
  },
  {
   "cell_type": "code",
   "execution_count": 16,
   "id": "51a722fb",
   "metadata": {},
   "outputs": [
    {
     "data": {
      "text/plain": [
       "0    220\n",
       "1    104\n",
       "2    280\n",
       "3    105\n",
       "dtype: int64"
      ]
     },
     "execution_count": 16,
     "metadata": {},
     "output_type": "execute_result"
    }
   ],
   "source": [
    "p.apply(lambda num:num+100)"
   ]
  },
  {
   "cell_type": "code",
   "execution_count": 17,
   "id": "52f837e1",
   "metadata": {
    "scrolled": true
   },
   "outputs": [
    {
     "data": {
      "text/plain": [
       "0       akash\n",
       "1        akki\n",
       "2       tejas\n",
       "3    abhishek\n",
       "dtype: object"
      ]
     },
     "execution_count": 17,
     "metadata": {},
     "output_type": "execute_result"
    }
   ],
   "source": [
    "nm=pd.Series(['akash','akki','tejas','abhishek'])\n",
    "nm"
   ]
  },
  {
   "cell_type": "code",
   "execution_count": 18,
   "id": "aacdfda7",
   "metadata": {},
   "outputs": [
    {
     "data": {
      "text/plain": [
       "0       AKASH\n",
       "1        AKKI\n",
       "2       TEJAS\n",
       "3    ABHISHEK\n",
       "dtype: object"
      ]
     },
     "execution_count": 18,
     "metadata": {},
     "output_type": "execute_result"
    }
   ],
   "source": [
    "nm.apply(lambda num:num.upper()) #names to upper case"
   ]
  },
  {
   "cell_type": "code",
   "execution_count": 21,
   "id": "d68106d5",
   "metadata": {
    "scrolled": true
   },
   "outputs": [
    {
     "data": {
      "text/plain": [
       "0    5\n",
       "1    4\n",
       "2    5\n",
       "3    8\n",
       "dtype: int64"
      ]
     },
     "execution_count": 21,
     "metadata": {},
     "output_type": "execute_result"
    }
   ],
   "source": [
    "#convert name to len\n",
    "nm.apply(lambda num:len(num))"
   ]
  },
  {
   "cell_type": "code",
   "execution_count": 22,
   "id": "ca3bf76e",
   "metadata": {},
   "outputs": [],
   "source": [
    "log=pd.Series(['14589635-bad56-85264','74122485-erd525-7895d6c'])"
   ]
  },
  {
   "cell_type": "code",
   "execution_count": 23,
   "id": "e9cd8a7d",
   "metadata": {},
   "outputs": [
    {
     "data": {
      "text/plain": [
       "0       14589635-bad56-85264\n",
       "1    74122485-erd525-7895d6c\n",
       "dtype: object"
      ]
     },
     "execution_count": 23,
     "metadata": {},
     "output_type": "execute_result"
    }
   ],
   "source": [
    "log"
   ]
  },
  {
   "cell_type": "code",
   "execution_count": 24,
   "id": "abf4dcad",
   "metadata": {},
   "outputs": [
    {
     "data": {
      "text/plain": [
       "0       [14589635, bad56, 85264]\n",
       "1    [74122485, erd525, 7895d6c]\n",
       "dtype: object"
      ]
     },
     "execution_count": 24,
     "metadata": {},
     "output_type": "execute_result"
    }
   ],
   "source": [
    "log.apply(lambda num:num.split('-'))"
   ]
  },
  {
   "cell_type": "code",
   "execution_count": 25,
   "id": "03ed3bbf",
   "metadata": {},
   "outputs": [
    {
     "data": {
      "text/plain": [
       "0      85264\n",
       "1    7895d6c\n",
       "dtype: object"
      ]
     },
     "execution_count": 25,
     "metadata": {},
     "output_type": "execute_result"
    }
   ],
   "source": [
    "log.apply(lambda num:num.split('-')[-1])"
   ]
  },
  {
   "cell_type": "code",
   "execution_count": 27,
   "id": "a9dc3efe",
   "metadata": {},
   "outputs": [
    {
     "data": {
      "text/plain": [
       "0    abvcdfhg ewdf\n",
       "1    qwerrtyu frfd\n",
       "dtype: object"
      ]
     },
     "execution_count": 27,
     "metadata": {},
     "output_type": "execute_result"
    }
   ],
   "source": [
    "m =pd.Series(['abvcdfhg ewdf','qwerrtyu frfd'])\n",
    "m"
   ]
  },
  {
   "cell_type": "code",
   "execution_count": 28,
   "id": "46965074",
   "metadata": {},
   "outputs": [
    {
     "data": {
      "text/plain": [
       "0    [abvcdfhg, ewdf]\n",
       "1    [qwerrtyu, frfd]\n",
       "dtype: object"
      ]
     },
     "execution_count": 28,
     "metadata": {},
     "output_type": "execute_result"
    }
   ],
   "source": [
    "m.apply(lambda num:num.split())"
   ]
  },
  {
   "cell_type": "code",
   "execution_count": 29,
   "id": "f2ac204f",
   "metadata": {},
   "outputs": [
    {
     "data": {
      "text/plain": [
       "0    ewdf\n",
       "1    frfd\n",
       "dtype: object"
      ]
     },
     "execution_count": 29,
     "metadata": {},
     "output_type": "execute_result"
    }
   ],
   "source": [
    "m.apply(lambda num:num.split()[1])"
   ]
  },
  {
   "cell_type": "markdown",
   "id": "55e36604",
   "metadata": {},
   "source": [
    "# describe()"
   ]
  },
  {
   "cell_type": "code",
   "execution_count": 30,
   "id": "0b797dcb",
   "metadata": {},
   "outputs": [
    {
     "data": {
      "text/plain": [
       "count      4.000000\n",
       "mean      77.250000\n",
       "std       87.503809\n",
       "min        4.000000\n",
       "25%        4.750000\n",
       "50%       62.500000\n",
       "75%      135.000000\n",
       "max      180.000000\n",
       "dtype: float64"
      ]
     },
     "execution_count": 30,
     "metadata": {},
     "output_type": "execute_result"
    }
   ],
   "source": [
    "p.describe()"
   ]
  },
  {
   "cell_type": "code",
   "execution_count": 31,
   "id": "4d7db083",
   "metadata": {},
   "outputs": [
    {
     "data": {
      "text/plain": [
       "0       akash\n",
       "1        akki\n",
       "2       tejas\n",
       "3    abhishek\n",
       "dtype: object"
      ]
     },
     "execution_count": 31,
     "metadata": {},
     "output_type": "execute_result"
    }
   ],
   "source": [
    "nm"
   ]
  },
  {
   "cell_type": "code",
   "execution_count": 32,
   "id": "ddbf8234",
   "metadata": {},
   "outputs": [
    {
     "data": {
      "text/plain": [
       "count         4\n",
       "unique        4\n",
       "top       akash\n",
       "freq          1\n",
       "dtype: object"
      ]
     },
     "execution_count": 32,
     "metadata": {},
     "output_type": "execute_result"
    }
   ],
   "source": [
    "nm.describe()"
   ]
  },
  {
   "cell_type": "code",
   "execution_count": 33,
   "id": "d2562d14",
   "metadata": {},
   "outputs": [
    {
     "data": {
      "text/plain": [
       "'akki'"
      ]
     },
     "execution_count": 33,
     "metadata": {},
     "output_type": "execute_result"
    }
   ],
   "source": [
    "nm[1]"
   ]
  },
  {
   "cell_type": "code",
   "execution_count": 34,
   "id": "7e64f1e4",
   "metadata": {},
   "outputs": [],
   "source": [
    "nm[1]='tushar'"
   ]
  },
  {
   "cell_type": "code",
   "execution_count": 35,
   "id": "364f9f88",
   "metadata": {},
   "outputs": [
    {
     "data": {
      "text/plain": [
       "0       akash\n",
       "1      tushar\n",
       "2       tejas\n",
       "3    abhishek\n",
       "dtype: object"
      ]
     },
     "execution_count": 35,
     "metadata": {},
     "output_type": "execute_result"
    }
   ],
   "source": [
    "nm"
   ]
  },
  {
   "cell_type": "code",
   "execution_count": 37,
   "id": "be0cc61e",
   "metadata": {},
   "outputs": [
    {
     "data": {
      "text/plain": [
       "0       AKASH\n",
       "1      TUSHAR\n",
       "2       TEJAS\n",
       "3    ABHISHEK\n",
       "dtype: object"
      ]
     },
     "execution_count": 37,
     "metadata": {},
     "output_type": "execute_result"
    }
   ],
   "source": [
    "nm.apply(lambda num:num.upper())"
   ]
  },
  {
   "cell_type": "code",
   "execution_count": 41,
   "id": "a2395db6",
   "metadata": {},
   "outputs": [
    {
     "data": {
      "text/plain": [
       "0    K\n",
       "1    U\n",
       "2    E\n",
       "3    B\n",
       "dtype: object"
      ]
     },
     "execution_count": 41,
     "metadata": {},
     "output_type": "execute_result"
    }
   ],
   "source": [
    "nm.apply(lambda num:num.upper()[1])"
   ]
  },
  {
   "cell_type": "markdown",
   "id": "8eda842b",
   "metadata": {},
   "source": [
    "# diff()"
   ]
  },
  {
   "cell_type": "code",
   "execution_count": 44,
   "id": "633e25fb",
   "metadata": {},
   "outputs": [
    {
     "data": {
      "text/plain": [
       "0      NaN\n",
       "1   -116.0\n",
       "2    176.0\n",
       "3   -175.0\n",
       "dtype: float64"
      ]
     },
     "execution_count": 44,
     "metadata": {},
     "output_type": "execute_result"
    }
   ],
   "source": [
    "p.diff()"
   ]
  },
  {
   "cell_type": "code",
   "execution_count": null,
   "id": "4476cfce",
   "metadata": {},
   "outputs": [],
   "source": []
  }
 ],
 "metadata": {
  "kernelspec": {
   "display_name": "Python 3 (ipykernel)",
   "language": "python",
   "name": "python3"
  },
  "language_info": {
   "codemirror_mode": {
    "name": "ipython",
    "version": 3
   },
   "file_extension": ".py",
   "mimetype": "text/x-python",
   "name": "python",
   "nbconvert_exporter": "python",
   "pygments_lexer": "ipython3",
   "version": "3.9.13"
  }
 },
 "nbformat": 4,
 "nbformat_minor": 5
}
